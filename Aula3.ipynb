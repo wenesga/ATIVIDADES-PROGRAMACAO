{
  "nbformat": 4,
  "nbformat_minor": 0,
  "metadata": {
    "colab": {
      "provenance": [],
      "include_colab_link": true
    },
    "kernelspec": {
      "name": "python3",
      "display_name": "Python 3"
    },
    "language_info": {
      "name": "python"
    }
  },
  "cells": [
    {
      "cell_type": "markdown",
      "metadata": {
        "id": "view-in-github",
        "colab_type": "text"
      },
      "source": [
        "<a href=\"https://colab.research.google.com/github/wenesga/ATIVIDADES-PROGRAMACAO/blob/main/Aula3.ipynb\" target=\"_parent\"><img src=\"https://colab.research.google.com/assets/colab-badge.svg\" alt=\"Open In Colab\"/></a>"
      ]
    },
    {
      "cell_type": "markdown",
      "source": [
        "Exemplos da Terceira Aula de Programação de Computadores\n",
        "\n",
        "Estrutura Condicional If-Else"
      ],
      "metadata": {
        "id": "tcBmqDExfMdP"
      }
    },
    {
      "cell_type": "code",
      "execution_count": null,
      "metadata": {
        "colab": {
          "base_uri": "https://localhost:8080/"
        },
        "id": "8hh3UHQUehe3",
        "outputId": "f08b5fec-3c6a-4030-9449-cc3e5b7e8096"
      },
      "outputs": [
        {
          "output_type": "stream",
          "name": "stdout",
          "text": [
            "Digite a nota do primeiro bimestre: 10\n",
            "Digite a nota do segundo bimestre: 8\n",
            "Digite a nota do terceiro bimestre: 9\n",
            "Digite a nota do quarto bimestre: 3\n",
            "A média da nota é:  7.5\n",
            "O aluno foi aprovado.\n"
          ]
        }
      ],
      "source": [
        "#Primeiro Exemplo\n",
        "#Programa para calcular a média de 4 notas bimestrais de um aluno\n",
        "#Solicitando as notas da disciplina]\n",
        "nota1=float(input(\"Digite a nota do primeiro bimestre: \"))\n",
        "nota2=float(input(\"Digite a nota do segundo bimestre: \"))\n",
        "nota3=float(input(\"Digite a nota do terceiro bimestre: \"))\n",
        "nota4=float(input(\"Digite a nota do quarto bimestre: \"))\n",
        "#calculando a media\n",
        "media=(nota1+nota2+nota3+nota4)/4\n",
        "#imprimindo a media\n",
        "print(\"A média da nota é: \",media)\n",
        "#classificando a nota de acordo com a media\n",
        "if (media >= 7):\n",
        "  print(\"O aluno foi aprovado.\")\n",
        "if (media<7) and (media >= 4):\n",
        "  print(\"O aluno vai ter que fazer exame final.\")\n",
        "if (media < 4):\n",
        "  print(\"O aluno reprovou.\")\n",
        "\n"
      ]
    },
    {
      "cell_type": "code",
      "source": [
        "#Segundo Exemplo\n",
        "#Programa para comparar login e senha de usuário\n",
        "nome_login_cadastrado=\"Eduardo Ribeiro\"\n",
        "senha_cadastrada=\"123456\"\n",
        "\n",
        "nome_login_pedido=input(\"Digite o nome de login: \")\n",
        "senha_pedida=input(\"Digite a senha:\")\n",
        "\n",
        "if nome_login_cadastrado==nome_login_pedido and senha_cadastrada==senha_pedida:\n",
        "  print(\"Login realizado com sucesso!\")\n",
        "else:\n",
        "  print(\"Login ou senha invalidos\")\n",
        "\n"
      ],
      "metadata": {
        "colab": {
          "base_uri": "https://localhost:8080/"
        },
        "id": "kf1F3pjdlXKI",
        "outputId": "6bcd1895-01fd-4266-b7b9-882ea86d7c05"
      },
      "execution_count": null,
      "outputs": [
        {
          "output_type": "stream",
          "name": "stdout",
          "text": [
            "Digite o nome de login: Maria da Silva\n",
            "Digite a senha:1234\n",
            "Login ou senha invalidos\n",
            "AGUARDE\n"
          ]
        }
      ]
    },
    {
      "cell_type": "code",
      "source": [
        "#Segundo Exemplo\n",
        "#Programa para comparar login e senha de usuário\n",
        "#Primeiro testa se o login foi correto\n",
        "#Depois testa a senha\n",
        "nome_login_cadastrado=\"Eduardo Ribeiro\"\n",
        "senha_cadastrada=\"123456\"\n",
        "\n",
        "nome_login_pedido=input(\"Digite o nome de login: \")\n",
        "senha_pedida=input(\"Digite a senha:\")\n",
        "\n",
        "if nome_login_cadastrado==nome_login_pedido:\n",
        "  if senha_cadastrada == senha_pedida:\n",
        "    print(\"Login realizado com sucesso!\")\n",
        "  else:\n",
        "    print(\"Senha não confere.\")\n",
        "else:\n",
        "    print(\"O nome de Login Não existe.\")\n"
      ],
      "metadata": {
        "colab": {
          "base_uri": "https://localhost:8080/"
        },
        "id": "eLxzyMRynYqq",
        "outputId": "f2615944-af8c-4839-b2e1-b5a1c686a3e4"
      },
      "execution_count": null,
      "outputs": [
        {
          "output_type": "stream",
          "name": "stdout",
          "text": [
            "Digite o nome de login: Eduardo Ribeiro\n",
            "Digite a senha:123\n",
            "Senha não confere.\n"
          ]
        }
      ]
    },
    {
      "cell_type": "code",
      "source": [
        "#Terceiro Exemplo\n",
        "#Programa para comparar login e senha de usuário\n",
        "#O programa só permite lear a senha se tiver login cadastrado\n",
        "\n",
        "nome_login_cadastrado=\"Eduardo Ribeiro\"\n",
        "senha_cadastrada=\"123456\"\n",
        "\n",
        "nome_login_pedido=input(\"Digite o nome de login: \")\n",
        "\n",
        "if nome_login_cadastrado==nome_login_pedido:\n",
        "  senha_pedida=input(\"Digite a senha:\")\n",
        "  if senha_cadastrada == senha_pedida:\n",
        "    print(\"Login realizado com sucesso!\")\n",
        "  else:\n",
        "    print(\"Senha não confere.\")\n",
        "else:\n",
        "    print(\"O nome de Login Não existe.\")"
      ],
      "metadata": {
        "colab": {
          "base_uri": "https://localhost:8080/"
        },
        "id": "oZ27Ld5Sowv4",
        "outputId": "a4338e1a-e152-4d05-b64e-16d91dc4d6ea"
      },
      "execution_count": null,
      "outputs": [
        {
          "output_type": "stream",
          "name": "stdout",
          "text": [
            "Digite o nome de login: Eduardo Ribeiro\n",
            "Digite a senha:123\n",
            "Senha não confere.\n"
          ]
        }
      ]
    },
    {
      "cell_type": "code",
      "source": [],
      "metadata": {
        "id": "_X91DcP9pbVK"
      },
      "execution_count": null,
      "outputs": []
    },
    {
      "cell_type": "code",
      "source": [
        "#Quarto Exemplo\n",
        "#Programa para calcular desconto de compra\n",
        "#ler o valor da compra\n",
        "valor_total_compra=float(input(\"Digite o valor final da compra:\"))\n",
        "#Se o valor total da compra for maior que 100, aplicar 10% de desconto\n",
        "if(valor_total_compra>=100):\n",
        "  desconto=valor_total_compra*0.1\n",
        "  valor_com_desconto=valor_total_compra-desconto\n",
        "#Se o valor total da compra estiver entre 50 e 100, aplicar 5% de desconto\n",
        "elif(valor_total_compra>=50)and (valor_total_compra<100):\n",
        "  desconto=valor_total_compra*0.05\n",
        "  valor_com_desconto=valor_total_compra-desconto\n",
        "#elif(valor_total_compra<50)\n",
        "#Se for menor que 50, não tem desconto\n",
        "else:\n",
        "  valor_com_desconto=valor_total_compra\n",
        "print(\"O valor final com desconto será de: \", valor_com_desconto)\n",
        "\n"
      ],
      "metadata": {
        "colab": {
          "base_uri": "https://localhost:8080/"
        },
        "id": "AYsWLMFApyDg",
        "outputId": "b958a93c-3391-43b2-82c5-4a84760e87d7"
      },
      "execution_count": null,
      "outputs": [
        {
          "output_type": "stream",
          "name": "stdout",
          "text": [
            "Digite o valor final da compra:40\n",
            "O valor final com desconto será de:  40.0\n"
          ]
        }
      ]
    },
    {
      "cell_type": "code",
      "source": [
        "#Quinto programa\n",
        "#Programa para calcular desconto de compra\n",
        "#ler o valor da compra\n",
        "valor_total_compra=float(input(\"Digite o valor final da compra:\"))\n",
        "#Se o valor total da compra for maior que 100, aplicar 10% de desconto\n",
        "if(valor_total_compra>=100):\n",
        "  valor_com_desconto=valor_total_compra-(valor_total_compra*0.1)\n",
        "#Se o valor total da compra estiver entre 50 e 100, aplicar 5% de desconto\n",
        "elif(valor_total_compra>=50)and (valor_total_compra<100):\n",
        "  valor_com_desconto=valor_total_compra-(valor_total_compra*0.05)\n",
        "#elif(valor_total_compra<50)\n",
        "#Se for menor que 50, não tem desconto\n",
        "else:\n",
        "  valor_com_desconto=valor_total_compra\n",
        "print(\"O valor final com desconto será de: \", valor_com_desconto)"
      ],
      "metadata": {
        "colab": {
          "base_uri": "https://localhost:8080/"
        },
        "id": "UFcJ0tCptZjN",
        "outputId": "c800532f-ec58-47ab-f74b-97e665521439"
      },
      "execution_count": null,
      "outputs": [
        {
          "output_type": "stream",
          "name": "stdout",
          "text": [
            "Digite o valor final da compra:160\n",
            "O valor final com desconto será de:  144.0\n"
          ]
        }
      ]
    },
    {
      "cell_type": "code",
      "source": [
        "#Sexto Exemplo\n",
        "#Programa para verificar se um empréstimo pode ser aprovado ou não\n",
        "#Lendo as informações do cliente\n",
        "valor_do_emprestimo=float(input(\"Digite o valor do empréstimo:\"))\n",
        "quantidade_de_parcelas=float(input(\"Digite a quantidade de Parcelas:\"))\n",
        "renda_do_cliente=float(input(\"Digite a renda do cliente:\"))\n",
        "valor_da_parcela=valor_do_emprestimo/quantidade_de_parcelas\n",
        "#Estipular as regras\n",
        "if (valor_do_emprestimo>=1000) and (valor_do_emprestimo<=50000) and (quantidade_de_parcelas>=6) and (quantidade_de_parcelas<=36) and (valor_da_parcela<=(renda_do_cliente*0.3)):\n",
        "  print(\"Emprestimo Aprovado!\")\n",
        "else:\n",
        "  print(\"Emprestimo Negado!\")\n"
      ],
      "metadata": {
        "colab": {
          "base_uri": "https://localhost:8080/"
        },
        "id": "uoBgjy5CtxpM",
        "outputId": "117f0030-2b9b-47d6-f939-7bb9838264db"
      },
      "execution_count": null,
      "outputs": [
        {
          "output_type": "stream",
          "name": "stdout",
          "text": [
            "Digite o valor do empréstimo:10000\n",
            "Digite a quantidade de Parcelas:6\n",
            "Digite a renda do cliente:1000\n",
            "Emprestimo Negado!\n"
          ]
        }
      ]
    },
    {
      "cell_type": "code",
      "source": [
        "#Sexto Exemplo\n",
        "#Programa para verificar se um empréstimo pode ser aprovado ou não\n",
        "#Lendo as informações do cliente\n",
        "valor_do_emprestimo=float(input(\"Digite o valor do empréstimo:\"))\n",
        "quantidade_de_parcelas=float(input(\"Digite a quantidade de Parcelas:\"))\n",
        "renda_do_cliente=float(input(\"Digite a renda do cliente:\"))\n",
        "valor_da_parcela=valor_do_emprestimo/quantidade_de_parcelas\n",
        "#Estipular as regras\n",
        "if (valor_do_emprestimo<1000):\n",
        "  print(\"Emprestimo negado! Escolha um valor de empréstimo maior ou igual a 1000.\")\n",
        "elif(valor_do_emprestimo>50000):\n",
        "  print(\"Emprestimo negado! Escolha um valor de empréstimo menor ou igual a 50000.\")\n",
        "elif(quantidade_de_parcelas<6):\n",
        "  print(\"Emprestimo negado! Escolha uma quantidade de parcelas maior que 6.\")\n",
        "elif(quantidade_de_parcelas>36):\n",
        "  print(\"Emprestimo negado! Escolha uma quantidade de parcelas menor que 36.\")\n",
        "elif(valor_da_parcela>(renda_do_cliente*0.3)):\n",
        "  print(\"Emprestimo negado! O valor da parcela deve ser maior que 30% da renda do cliente!\")\n",
        "else:\n",
        "  print(\"Emprestimo Aprovado!\")"
      ],
      "metadata": {
        "colab": {
          "base_uri": "https://localhost:8080/"
        },
        "id": "fU-nxdKax2hl",
        "outputId": "b268b490-cdf0-4d83-acab-63093787b27f"
      },
      "execution_count": null,
      "outputs": [
        {
          "output_type": "stream",
          "name": "stdout",
          "text": [
            "Digite o valor do empréstimo:100000\n",
            "Digite a quantidade de Parcelas:30\n",
            "Digite a renda do cliente:10000\n",
            "Emprestimo negado! Escolha um valor de empréstimo menor ou igual a 50000.\n"
          ]
        }
      ]
    },
    {
      "cell_type": "code",
      "source": [
        "#Sexto Exemplo\n",
        "#Programa para verificar se um empréstimo pode ser aprovado ou não\n",
        "#Lendo as informações do cliente\n",
        "valor_do_emprestimo=float(input(\"Digite o valor do empréstimo:\"))\n",
        "#Estipular as regras\n",
        "if (valor_do_emprestimo<1000):\n",
        "  print(\"Emprestimo negado! Escolha um valor de empréstimo maior ou igual a 1000.\")\n",
        "elif(valor_do_emprestimo>50000):\n",
        "  print(\"Emprestimo negado! Escolha um valor de empréstimo menor ou igual a 50000.\")\n",
        "else:\n",
        "  quantidade_de_parcelas=float(input(\"Digite a quantidade de Parcelas:\"))\n",
        "  if(quantidade_de_parcelas<6):\n",
        "    print(\"Emprestimo negado! Escolha uma quantidade de parcelas maior que 6.\")\n",
        "  elif(quantidade_de_parcelas>36):\n",
        "    print(\"Emprestimo negado! Escolha uma quantidade de parcelas menor que 36.\")\n",
        "  else:\n",
        "    renda_do_cliente=float(input(\"Digite a renda do cliente:\"))\n",
        "    valor_da_parcela=valor_do_emprestimo/quantidade_de_parcelas\n",
        "    if(valor_da_parcela>(renda_do_cliente*0.3)):\n",
        "      print(\"Emprestimo negado! O valor da parcela deve ser maior que 30% da renda do cliente!\")\n",
        "    else:\n",
        "       print(\"Emprestimo Aprovado!\")"
      ],
      "metadata": {
        "colab": {
          "base_uri": "https://localhost:8080/"
        },
        "id": "TzAwJjAFzrKU",
        "outputId": "885f17f2-7901-4762-d7bc-8bb63c18b357"
      },
      "execution_count": null,
      "outputs": [
        {
          "output_type": "stream",
          "name": "stdout",
          "text": [
            "Digite o valor do empréstimo:900\n",
            "Emprestimo negado! Escolha um valor de empréstimo maior ou igual a 1000.\n"
          ]
        }
      ]
    }
  ]
}