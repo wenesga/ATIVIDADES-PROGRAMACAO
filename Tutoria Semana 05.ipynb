{
  "cells": [
    {
      "cell_type": "markdown",
      "metadata": {
        "id": "view-in-github",
        "colab_type": "text"
      },
      "source": [
        "<a href=\"https://colab.research.google.com/github/wenesga/Atividades-de-Programacao/blob/main/Tutoria%20Semana%2005.ipynb\" target=\"_parent\"><img src=\"https://colab.research.google.com/assets/colab-badge.svg\" alt=\"Open In Colab\"/></a>"
      ]
    },
    {
      "cell_type": "markdown",
      "source": [
        "# UFT - Licenciatura em Computação\n",
        "## Programação de Computadores\n",
        "### Exercícios de Fixação\n",
        "###**Semana 5: Variáveis Compostas Homogêneas**\n",
        "#### *MSc. Denis Passos (tutor online)*\n",
        "\n"
      ],
      "metadata": {
        "id": "le2eX53gEuUa"
      }
    },
    {
      "cell_type": "markdown",
      "source": [
        "---\n",
        "#### Aluno(a): Meu Nome\n",
        "---"
      ],
      "metadata": {
        "id": "v8dbFer28x61"
      }
    },
    {
      "cell_type": "markdown",
      "source": [
        "1. Faça um Programa que leia um vetor de 5 números inteiros e mostre-os.\n"
      ],
      "metadata": {
        "id": "F-JmwiQdL2DV"
      }
    },
    {
      "cell_type": "code",
      "source": [
        "# Inicializa uma lista vazia para armazenar os números\n",
        "numeros = []\n",
        "\n",
        "# Loop para ler 5 números inteiros\n",
        "for i in range(5):\n",
        "    # Para cada passo no loop, pede um número ao usuário\n",
        "    numero = int(input(f'Digite o {i+1}º número inteiro: '))\n",
        "    numeros.append(numero)  # Adiciona o número lido à lista\n",
        "\n",
        "# Exibe os números lidos\n",
        "print('Os números digitados foram:')\n",
        "for numero in numeros:\n",
        "    print(numero)"
      ],
      "metadata": {
        "id": "3Q3wXtAkL7MU"
      },
      "execution_count": null,
      "outputs": []
    },
    {
      "cell_type": "markdown",
      "source": [
        "\n",
        "2. Faça um Programa que leia um vetor de 10 números reais e mostre-os na ordem inversa."
      ],
      "metadata": {
        "id": "ArNZGvuLSBDY"
      }
    },
    {
      "cell_type": "code",
      "source": [
        "# Inicializa uma lista vazia para armazenar os números reais\n",
        "numeros = []\n",
        "\n",
        "# Loop para ler 10 números reais\n",
        "for i in range(10):\n",
        "    # Solicita ao usuário que digite um número e converte para ponto flutuante (real)\n",
        "    numero = float(input(f'Digite o {i+1}º número real: '))\n",
        "\n",
        "    # Adiciona o número à lista 'numeros'\n",
        "    numeros.append(numero)\n",
        "\n",
        "# Exibe os números na ordem inversa\n",
        "print('Números na ordem inversa:')\n",
        "\n",
        "'''\n",
        "No loop for a seguir, temos o seguinte:\n",
        "9 é o valor inicial da sequência. O loop começará com i igual a 9.\n",
        "-1 é o valor final da sequência. O loop irá até -1, mas não incluirá -1. Ou seja, o último valor que i assumirá será 0.\n",
        "-1 é o passo da sequência. O valor de -1 indica que o loop irá\n",
        "decrementar i em 1 unidade a cada iteração, ou seja, ele irá de 9 até 0, decrementando de 1 em 1.\n",
        "'''\n",
        "for i in range(9, -1, -1):\n",
        "    # Acessa e imprime cada número da lista na ordem inversa\n",
        "    print(numeros[i])"
      ],
      "metadata": {
        "id": "yoClPlL9c3ai"
      },
      "execution_count": null,
      "outputs": []
    },
    {
      "cell_type": "markdown",
      "source": [
        "\n",
        "3. Faça um Programa que leia 4 notas, mostre as notas e a média na tela."
      ],
      "metadata": {
        "id": "3FM1ld2mSENX"
      }
    },
    {
      "cell_type": "code",
      "source": [
        "# Inicializa uma lista vazia para armazenar as notas\n",
        "notas = []\n",
        "\n",
        "# Loop para ler 4 notas\n",
        "for i in range(4):\n",
        "    # Solicita ao usuário que digite uma nota e converte para ponto flutuante\n",
        "    nota = float(input(f'Digite a {i+1}ª nota: '))\n",
        "\n",
        "    # Adiciona a nota à lista 'notas'\n",
        "    notas.append(nota)\n",
        "\n",
        "# Exibe as notas lidas\n",
        "print('Notas digitadas:')\n",
        "for nota in notas:\n",
        "    print(nota)\n",
        "\n",
        "# Calcula a média das notas\n",
        "media = sum(notas) / len(notas) # Perceba que aqui usamos o len para obter o tamanho da lista (apesar que já sabíamos que era 4)\n",
        "\n",
        "# Exibe a média\n",
        "print(f'Média das notas: {media}')"
      ],
      "metadata": {
        "id": "NeoQPmSac_R3"
      },
      "execution_count": null,
      "outputs": []
    },
    {
      "cell_type": "markdown",
      "source": [
        "\n",
        "4. Faça um Programa que leia um vetor de 10 caracteres, e diga quantas consoantes foram\n",
        "lidas. Imprima as consoantes."
      ],
      "metadata": {
        "id": "vXb6d1bqSHNw"
      }
    },
    {
      "cell_type": "code",
      "source": [
        "# Inicializa uma lista vazia para armazenar os caracteres\n",
        "caracteres = []\n",
        "\n",
        "# Inicializa uma lista vazia para armazenar as consoantes\n",
        "consoantes = []\n",
        "\n",
        "# Define uma lista com as vogais\n",
        "vogais = ['a', 'e', 'i', 'o', 'u']\n",
        "\n",
        "# Loop para ler 10 caracteres\n",
        "for i in range(10):\n",
        "    # Solicita ao usuário que digite um caractere e converte para letra minúscula\n",
        "    caractere = input(f'Digite o {i+1}º caractere: ').lower()\n",
        "\n",
        "    # Adiciona o caractere à lista 'caracteres'\n",
        "    caracteres.append(caractere)\n",
        "\n",
        "# Loop para verificar e contar as consoantes\n",
        "for caractere in caracteres:\n",
        "    # Verifica se o caractere é uma letra minúscula\n",
        "    if caractere.isalpha():\n",
        "        # Verifica se o caractere não é uma vogal. Se é letra e não é vogal... é consoante.\n",
        "        if caractere not in vogais: # Se o caractere NÃO ESTÁ na lista de vogais...\n",
        "            consoantes.append(caractere)\n",
        "\n",
        "# Exibe as consoantes\n",
        "print('Consoantes digitadas:')\n",
        "for consoante in consoantes: # Para cada elemento na lista consoantes, imprima este elemento (poderia chamar de el, x, y, i... ao invés de consoante)\n",
        "    print(consoante)\n",
        "\n",
        "# Conta e exibe a quantidade de consoantes\n",
        "quantidade_consoantes = len(consoantes)\n",
        "print(f'Total de consoantes: {quantidade_consoantes}')\n"
      ],
      "metadata": {
        "id": "bJjEnVNPdBzv"
      },
      "execution_count": null,
      "outputs": []
    },
    {
      "cell_type": "markdown",
      "source": [
        "\n",
        "5. Faça um Programa que leia 20 números inteiros e armazene-os num vetor. Armazene os\n",
        "números pares no vetor PAR e os números IMPARES no vetor impar. Imprima os três\n",
        "vetores."
      ],
      "metadata": {
        "id": "YpexeOieSJvv"
      }
    },
    {
      "cell_type": "code",
      "source": [
        "# Inicializa as listas vazias para armazenar os números, pares e ímpares\n",
        "numeros = []\n",
        "pares = []\n",
        "impares = []\n",
        "\n",
        "# Loop para ler 20 números inteiros\n",
        "for i in range(20):\n",
        "    # Solicita ao usuário que digite um número inteiro e converte para inteiro\n",
        "    numero = int(input(f'Digite o {i+1}º número inteiro: '))\n",
        "\n",
        "    # Adiciona o número à lista 'numeros'\n",
        "    numeros.append(numero)\n",
        "\n",
        "# Loop para separar números pares e ímpares\n",
        "for numero in numeros:\n",
        "    if numero % 2 == 0: # Quando dividimos por 2 e o resto é zero, sabemos que um número é par.\n",
        "        pares.append(numero)  # Adiciona número par à lista 'pares'\n",
        "    else: # Se o resto da divisão por 2 não for zero, então é ímpar\n",
        "        impares.append(numero)  # Adiciona número ímpar à lista 'impares'\n",
        "\n",
        "# Exibe os números lidos, os números pares e os números ímpares\n",
        "print('Números lidos:')\n",
        "print(numeros)\n",
        "print('Números pares:')\n",
        "print(pares)\n",
        "print('Números ímpares:')\n",
        "print(impares)"
      ],
      "metadata": {
        "id": "zhxL8UwPdEW_"
      },
      "execution_count": null,
      "outputs": []
    },
    {
      "cell_type": "markdown",
      "source": [
        "\n",
        "6. Faça um Programa que peça as quatro notas de 10 alunos, calcule e armazene num vetor\n",
        "a média de cada aluno, imprima o número de alunos com média maior ou igual a 7.0."
      ],
      "metadata": {
        "id": "Opbf1uDOSMKb"
      }
    },
    {
      "cell_type": "code",
      "source": [
        "# Inicializa uma lista vazia para armazenar as médias dos alunos\n",
        "medias = []\n",
        "\n",
        "# Inicializa uma variável para contar o número de alunos com média maior ou igual a 7.0\n",
        "alunos_aprovados = 0\n",
        "\n",
        "# Loop para ler as notas de 10 alunos\n",
        "for i in range(10):\n",
        "    # Solicita ao usuário as quatro notas do aluno da vez\n",
        "    print(f'Aluno {i + 1}:')\n",
        "    nota1 = float(input('\\tDigite a primeira nota: '))\n",
        "    nota2 = float(input('\\tDigite a segunda nota: '))\n",
        "    nota3 = float(input('\\tDigite a terceira nota: '))\n",
        "    nota4 = float(input('\\tDigite a quarta nota: '))\n",
        "\n",
        "    # Calcula a média do aluno da vez\n",
        "    media = (nota1 + nota2 + nota3 + nota4) / 4\n",
        "\n",
        "    # Adiciona a média à lista 'medias'\n",
        "    medias.append(media)\n",
        "\n",
        "# Loop para verificar as médias e contar os alunos aprovados\n",
        "for media in medias:\n",
        "    if media >= 7.0:\n",
        "        alunos_aprovados += 1\n",
        "\n",
        "# Exibe o número de alunos aprovados\n",
        "print(f'Número de alunos com média maior ou igual a 7.0: {alunos_aprovados}')\n"
      ],
      "metadata": {
        "id": "2pJLc2ardG73"
      },
      "execution_count": null,
      "outputs": []
    },
    {
      "cell_type": "markdown",
      "source": [
        "\n",
        "7. Faça um Programa que leia um vetor de 5 números inteiros, mostre a soma, a\n",
        "multiplicação e os números."
      ],
      "metadata": {
        "id": "5P-033DBSOrm"
      }
    },
    {
      "cell_type": "code",
      "source": [
        "# Inicializa uma lista vazia para armazenar os números\n",
        "numeros = []\n",
        "\n",
        "# Inicializa as variáveis de soma e multiplicação\n",
        "soma = 0\n",
        "multiplicacao = 1 # Se liga nessa inicialização com 1 (que é o elemento neutro). Assim não influenciamos nas contas depois.\n",
        "\n",
        "# Loop para ler 5 números inteiros\n",
        "for i in range(5):\n",
        "    # Solicita ao usuário que digite um número inteiro e converte para inteiro\n",
        "    numero = int(input(f'Digite o {i+1}º número inteiro: '))\n",
        "\n",
        "    # Adiciona o número à lista 'numeros'\n",
        "    numeros.append(numero)\n",
        "\n",
        "# Calcula a soma dos números na lista 'numeros'\n",
        "soma = sum(numeros) # Perceba que temos uma função nativa pra isso: sum\n",
        "\n",
        "# Calcula a multiplicação dos números na lista 'numeros'\n",
        "for numero in numeros: # Para cada elemento da lista numeros\n",
        "    multiplicacao *= numero # *= é o mesmo que multiplicacao = multiplicacao * numero\n",
        "\n",
        "# Exibe os números lidos, a soma e a multiplicação\n",
        "print('Números lidos:', numeros)\n",
        "print('Soma dos números:', soma)\n",
        "print('Multiplicação dos números:', multiplicacao)"
      ],
      "metadata": {
        "id": "r1vvBo8kdIvK"
      },
      "execution_count": null,
      "outputs": []
    },
    {
      "cell_type": "markdown",
      "source": [
        "\n",
        "8. Faça um Programa que peça a idade e a altura de 5 pessoas, armazene cada informação\n",
        "no seu respectivo vetor. Imprima a idade e a altura na ordem inversa da ordem lida."
      ],
      "metadata": {
        "id": "zYuDA92sSRF8"
      }
    },
    {
      "cell_type": "code",
      "source": [
        "# Inicializa vetores vazios para idade e altura\n",
        "idades = []\n",
        "alturas = []\n",
        "\n",
        "# Loop para ler a idade e a altura de 5 pessoas\n",
        "for i in range(5):\n",
        "    # Solicita ao usuário que digite a idade e converte para inteiro\n",
        "    idade = int(input(f'Digite a idade da {i+1}ª pessoa: '))\n",
        "\n",
        "    # Solicita ao usuário que digite a altura e converte para float\n",
        "    altura = float(input(f'Digite a altura da {i+1}ª pessoa (em metros): '))\n",
        "\n",
        "    # Adiciona a idade e a altura aos vetores correspondentes\n",
        "    idades.append(idade)\n",
        "    alturas.append(altura)\n",
        "\n",
        "# Imprime as idades e alturas na ordem inversa\n",
        "print('\\nIdades na ordem inversa:')\n",
        "for idade in reversed(idades): # Olha essa maneira de correr a lista ao contrário usando reversed\n",
        "    print(idade)\n",
        "\n",
        "print('\\nAlturas na ordem inversa:')\n",
        "for altura in reversed(alturas):\n",
        "    print(altura)\n"
      ],
      "metadata": {
        "id": "6KDCDxaldLAH"
      },
      "execution_count": null,
      "outputs": []
    },
    {
      "cell_type": "markdown",
      "source": [
        "\n",
        "9. Utilizando listas faça um programa que faça 5 perguntas para uma pessoa sobre um\n",
        "crime. <br>As perguntas são:\n",
        "> a. \"Telefonou para a vítima?\"<br>\n",
        "> b. \"Esteve no local do crime?\"<br>\n",
        "> c. \"Mora perto da vítima?\"<br>\n",
        "> d. \"Devia para a vítima?\"<br>\n",
        "> e. \"Já trabalhou com a vítima?\"<br>O programa deve no final emitir uma classificação sobre a participação da pessoa no crime. Se a pessoa responder positivamente a 2 questões ela deve ser classificada como \"Suspeita\", entre 3 e 4 como \"Cúmplice\" e 5 como \"Assassino\". Caso contrário, ele será classificado como \"Inocente\"."
      ],
      "metadata": {
        "id": "R-rQi6PoSTpD"
      }
    },
    {
      "cell_type": "code",
      "source": [
        "# Inicializamos uma lista de respostas\n",
        "respostas = []\n",
        "\n",
        "# Fazemos as 5 perguntas e armazenamos as respostas na lista\n",
        "respostas.append(input(\"Telefonou para a vítima? (S ou N): \").upper())\n",
        "respostas.append(input(\"Esteve no local do crime? (S ou N): \").upper())\n",
        "respostas.append(input(\"Mora perto da vítima? (S ou N): \").upper())\n",
        "respostas.append(input(\"Devia para a vítima? (S ou N): \").upper())\n",
        "respostas.append(input(\"Já trabalhou com a vítima? (S ou N): \").upper())\n",
        "\n",
        "# Contamos quantas respostas positivas (S) foram dadas\n",
        "respostas_positivas = respostas.count('S')\n",
        "\n",
        "# Agora, a parte emocionante...\n",
        "\n",
        "# Se você deu exatamente 2 respostas positivas, você é Suspeito. Não vá longe!\n",
        "if respostas_positivas == 2:\n",
        "    print(\"Você é Suspeito. 🕵️‍♂️\")\n",
        "\n",
        "# Se você deu 3 ou 4 respostas positivas, você é Cúmplice. Está começando a ficar complicado...\n",
        "elif respostas_positivas == 3 or respostas_positivas == 4:\n",
        "    print(\"Você é Cúmplice. 👥\")\n",
        "\n",
        "# Se você deu todas as respostas positivas, você é o Assassino! 🙀\n",
        "elif respostas_positivas == 5:\n",
        "    print(\"Você é o Assassino! 🔪💀\")\n",
        "\n",
        "# Se não se encaixou em nenhuma das opções anteriores, você é Inocente. 🙌\n",
        "else:\n",
        "    print(\"Você é Inocente. 😇\")\n",
        "\n",
        "# E agora, a plateia aplaude! 👏"
      ],
      "metadata": {
        "id": "AuATKu6kSWML"
      },
      "execution_count": null,
      "outputs": []
    },
    {
      "cell_type": "markdown",
      "source": [
        "\n",
        "10. Faça um programa que leia um número indeterminado de valores, correspondentes a\n",
        "notas, encerrando a entrada de dados quando for informado um valor igual a -1 (que não\n",
        "deve ser armazenado). Após esta entrada de dados, faça:\n",
        "> a. Mostre a quantidade de valores que foram lidos;<br>\n",
        "> b. Exiba todos os valores na ordem em que foram informados, um ao lado do outro;<br>\n",
        "> c. Exiba todos os valores na ordem inversa à que foram informados, um abaixo do\n",
        "outro;<br>\n",
        "> d. Calcule e mostre a soma dos valores;<br>\n",
        "> e. Calcule e mostre a média dos valores;<br>\n",
        "> f. Calcule e mostre a quantidade de valores acima da média calculada;<br>\n",
        "> g. Calcule e mostre a quantidade de valores abaixo de sete;<br>\n",
        "> h. Encerre o programa com uma mensagem;"
      ],
      "metadata": {
        "id": "qEK2ldRUSWk1"
      }
    },
    {
      "cell_type": "code",
      "source": [
        "# Inicializamos uma lista para armazenar as notas\n",
        "notas = []\n",
        "\n",
        "# Agora, vamos criar um loop que vai continuar pedindo notas até que a gente canse\n",
        "while True:\n",
        "    # Pedimos uma nota e a armazenamos\n",
        "    nota = float(input(\"Me dê uma nota (-1 para dar um tchau): \"))\n",
        "\n",
        "    # Se a nota for -1, então é hora de dizer adeus a este loop\n",
        "    if nota == -1:\n",
        "        break\n",
        "\n",
        "    # Senão, vamos adicionar a nota à nossa coleção de notas\n",
        "    notas.append(nota)\n",
        "\n",
        "# a. Contamos quantas notas a gente pegou\n",
        "quantidade = len(notas)\n",
        "print(f\"Você me deu {quantidade} notas. Uau!\")\n",
        "\n",
        "# b. Listamos todas as notas na ordem que você deu, lado a lado\n",
        "print(\"Aqui estão as notas que você me deu (na mesma linha):\")\n",
        "for nota in notas:\n",
        "    # Quando passamos end=\" \" no final do print, estamos dizendo que, no final, queremos espaço em branco e não quebra de linha (padrão)\n",
        "    print(nota, end=\" \")\n",
        "\n",
        "# c. Agora, listamos as notas na ordem inversa, uma embaixo da outra\n",
        "print(\"\\nAqui estão as notas, mas agora na ordem reversa:\")\n",
        "for nota in reversed(notas):\n",
        "    print(nota)\n",
        "\n",
        "# d. Vamos calcular e mostrar a soma das notas\n",
        "soma = sum(notas)\n",
        "print(f\"A soma das notas é: {soma}.\")\n",
        "\n",
        "# e. Vamos calcular e mostrar a média das notas\n",
        "media = soma / quantidade\n",
        "print(f\"A média das notas é: {media:.2f}.\")\n",
        "\n",
        "# f. Contamos quantas notas estão acima da média\n",
        "acima_da_media = len([nota for nota in notas if nota > media])\n",
        "print(f\"Temos {acima_da_media} notas acima da média. Impressionante!\")\n",
        "\n",
        "# g. Contamos quantas notas estão abaixo de 7\n",
        "abaixo_de_sete = len([nota for nota in notas if nota < 7])\n",
        "print(f\"Você tem {abaixo_de_sete} notas abaixo de 7. Estamos de olho! 😉\")\n",
        "\n",
        "# h. E finalmente, dizemos adeus de verdade\n",
        "print(\"Ok, acabou! Até a próxima!\")\n"
      ],
      "metadata": {
        "id": "0fNE-CyVSXfT"
      },
      "execution_count": null,
      "outputs": []
    }
  ],
  "metadata": {
    "colab": {
      "provenance": [],
      "include_colab_link": true
    },
    "kernelspec": {
      "display_name": "Python 3",
      "name": "python3"
    },
    "language_info": {
      "name": "python"
    }
  },
  "nbformat": 4,
  "nbformat_minor": 0
}