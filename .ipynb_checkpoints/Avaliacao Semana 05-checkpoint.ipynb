{
 "cells": [
  {
   "cell_type": "code",
   "execution_count": 1,
   "id": "8a1b72bf",
   "metadata": {},
   "outputs": [
    {
     "name": "stdout",
     "output_type": "stream",
     "text": [
      "Valores da função no ponto x0: [13, 6, 3, 4, 9, 18, 31]\n",
      "Valores da função no ponto xf: [-3, -2, -1, 0, 1, 2, 3]\n"
     ]
    }
   ],
   "source": [
    "# Valores de a, b e c\n",
    "a = 2\n",
    "b = 3\n",
    "c = 4\n",
    "\n",
    "# Pontos x0 e xf\n",
    "x0 = -3\n",
    "xf = 3\n",
    "\n",
    "# Criar vetores para os valores da função nos pontos\n",
    "valores_x0 = []\n",
    "valores_xf = []\n",
    "\n",
    "# Calcular os valores da função nos pontos x0 e xf\n",
    "for x in range(x0, xf + 1):\n",
    "    valores_x0.append(a*x**2 + b*x + c)\n",
    "    valores_xf.append(x)\n",
    "\n",
    "print(\"Valores da função no ponto x0:\", valores_x0)\n",
    "print(\"Valores da função no ponto xf:\", valores_xf)"
   ]
  },
  {
   "cell_type": "code",
   "execution_count": 3,
   "id": "20b12c90",
   "metadata": {},
   "outputs": [
    {
     "name": "stdout",
     "output_type": "stream",
     "text": [
      "Digite a quantidade de elementos do vetor: 3\n",
      "Digite o valor para o elemento 1: 5\n",
      "Digite o valor para o elemento 2: 2\n",
      "Digite o valor para o elemento 3: 1\n",
      "Valores do vetor:\n",
      "5.0\n",
      "2.0\n",
      "1.0\n"
     ]
    }
   ],
   "source": [
    "#PROGRAMA\n",
    "quantidade_elementos = int(input(\"Digite a quantidade de elementos do vetor: \"))\n",
    "\n",
    "vetor = []\n",
    "\n",
    "\n",
    "for i in range(quantidade_elementos):\n",
    "     valor = float(input(f\"Digite o valor para o elemento {i+1}: \"))\n",
    "     vetor.append(valor)\n",
    "\n",
    "\n",
    "print(\"Valores do vetor:\")\n",
    "for valor in vetor:\n",
    "     print(f\"{valor:.1f}\")"
   ]
  },
  {
   "cell_type": "code",
   "execution_count": 7,
   "id": "ac0faaf0",
   "metadata": {},
   "outputs": [
    {
     "name": "stdout",
     "output_type": "stream",
     "text": [
      "3\n"
     ]
    }
   ],
   "source": [
    "cinema = [\"Sony Pictures\", \"Walt Disney\", \"Universal Pictures\", \"Warner\"]\n",
    "print(cinema.index(\"Warner\"))\n",
    "print(cinema.index(\"Disney\")) #ValueError: 'Disney' is not in list"
   ]
  }
 ],
 "metadata": {
  "kernelspec": {
   "display_name": "Python 3 (ipykernel)",
   "language": "python",
   "name": "python3"
  },
  "language_info": {
   "codemirror_mode": {
    "name": "ipython",
    "version": 3
   },
   "file_extension": ".py",
   "mimetype": "text/x-python",
   "name": "python",
   "nbconvert_exporter": "python",
   "pygments_lexer": "ipython3",
   "version": "3.11.3"
  }
 },
 "nbformat": 4,
 "nbformat_minor": 5
}
