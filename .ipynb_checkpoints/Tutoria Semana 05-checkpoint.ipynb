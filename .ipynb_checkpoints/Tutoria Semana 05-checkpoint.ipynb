{
 "cells": [
  {
   "cell_type": "markdown",
   "metadata": {
    "colab_type": "text",
    "id": "view-in-github"
   },
   "source": [
    "<a href=\"https://colab.research.google.com/github/wenesga/Atividades-de-Programacao/blob/main/Tutoria%20Semana%2005.ipynb\" target=\"_parent\"><img src=\"https://colab.research.google.com/assets/colab-badge.svg\" alt=\"Open In Colab\"/></a>"
   ]
  },
  {
   "cell_type": "markdown",
   "metadata": {
    "id": "le2eX53gEuUa"
   },
   "source": [
    "# UFT - Licenciatura em Computação\n",
    "## Programação de Computadores\n",
    "### Exercícios de Fixação\n",
    "###**Semana 5: Variáveis Compostas Homogêneas**\n",
    "#### *MSc. Denis Passos (tutor online)*\n",
    "\n"
   ]
  },
  {
   "cell_type": "markdown",
   "metadata": {
    "id": "v8dbFer28x61"
   },
   "source": [
    "---\n",
    "#### Aluno(a): Meu Nome\n",
    "---"
   ]
  },
  {
   "cell_type": "markdown",
   "metadata": {
    "id": "F-JmwiQdL2DV"
   },
   "source": [
    "1. Faça um Programa que leia um vetor de 5 números inteiros e mostre-os.\n"
   ]
  },
  {
   "cell_type": "code",
   "execution_count": 1,
   "metadata": {
    "id": "3Q3wXtAkL7MU"
   },
   "outputs": [
    {
     "name": "stdout",
     "output_type": "stream",
     "text": [
      "Digite o 1º número inteiro: 3\n",
      "Digite o 2º número inteiro: 9\n",
      "Digite o 3º número inteiro: 7\n",
      "Digite o 4º número inteiro: 8\n",
      "Digite o 5º número inteiro: 6\n",
      "Os números digitados foram:\n",
      "3\n",
      "9\n",
      "7\n",
      "8\n",
      "6\n"
     ]
    }
   ],
   "source": [
    "# Inicializa uma lista vazia para armazenar os números\n",
    "numeros = []\n",
    "\n",
    "# Loop para ler 5 números inteiros\n",
    "for i in range(5):\n",
    "    # Para cada passo no loop, pede um número ao usuário\n",
    "    numero = int(input(f'Digite o {i+1}º número inteiro: '))\n",
    "    numeros.append(numero)  # Adiciona o número lido à lista\n",
    "\n",
    "# Exibe os números lidos\n",
    "print('Os números digitados foram:')\n",
    "for numero in numeros:\n",
    "    print(numero)"
   ]
  },
  {
   "cell_type": "markdown",
   "metadata": {
    "id": "ArNZGvuLSBDY"
   },
   "source": [
    "\n",
    "2. Faça um Programa que leia um vetor de 10 números reais e mostre-os na ordem inversa."
   ]
  },
  {
   "cell_type": "code",
   "execution_count": 2,
   "metadata": {
    "id": "yoClPlL9c3ai"
   },
   "outputs": [
    {
     "name": "stdout",
     "output_type": "stream",
     "text": [
      "Digite o 1º número real: 5\n",
      "Digite o 2º número real: 5\n",
      "Digite o 3º número real: 8\n",
      "Digite o 4º número real: 9\n",
      "Digite o 5º número real: 3\n",
      "Digite o 6º número real: 5\n",
      "Digite o 7º número real: 2\n",
      "Digite o 8º número real: 7\n",
      "Digite o 9º número real: 0\n",
      "Digite o 10º número real: 5\n",
      "Números na ordem inversa:\n",
      "5.0\n",
      "0.0\n",
      "7.0\n",
      "2.0\n",
      "5.0\n",
      "3.0\n",
      "9.0\n",
      "8.0\n",
      "5.0\n",
      "5.0\n"
     ]
    }
   ],
   "source": [
    "# Inicializa uma lista vazia para armazenar os números reais\n",
    "numeros = []\n",
    "\n",
    "# Loop para ler 10 números reais\n",
    "for i in range(10):\n",
    "    # Solicita ao usuário que digite um número e converte para ponto flutuante (real)\n",
    "    numero = float(input(f'Digite o {i+1}º número real: '))\n",
    "\n",
    "    # Adiciona o número à lista 'numeros'\n",
    "    numeros.append(numero)\n",
    "\n",
    "# Exibe os números na ordem inversa\n",
    "print('Números na ordem inversa:')\n",
    "\n",
    "'''\n",
    "No loop for a seguir, temos o seguinte:\n",
    "9 é o valor inicial da sequência. O loop começará com i igual a 9.\n",
    "-1 é o valor final da sequência. O loop irá até -1, mas não incluirá -1. Ou seja, o último valor que i assumirá será 0.\n",
    "-1 é o passo da sequência. O valor de -1 indica que o loop irá\n",
    "decrementar i em 1 unidade a cada iteração, ou seja, ele irá de 9 até 0, decrementando de 1 em 1.\n",
    "'''\n",
    "for i in range(9, -1, -1):\n",
    "    # Acessa e imprime cada número da lista na ordem inversa\n",
    "    print(numeros[i])"
   ]
  },
  {
   "cell_type": "markdown",
   "metadata": {
    "id": "3FM1ld2mSENX"
   },
   "source": [
    "\n",
    "3. Faça um Programa que leia 4 notas, mostre as notas e a média na tela."
   ]
  },
  {
   "cell_type": "code",
   "execution_count": 1,
   "metadata": {
    "id": "NeoQPmSac_R3"
   },
   "outputs": [
    {
     "name": "stdout",
     "output_type": "stream",
     "text": [
      "Digite a 1ª nota: 7\n",
      "Digite a 2ª nota: 6\n",
      "Digite a 3ª nota: 9\n",
      "Digite a 4ª nota: 8\n",
      "Notas digitadas:\n",
      "7.0\n",
      "6.0\n",
      "9.0\n",
      "8.0\n",
      "Média das notas: 7.5\n"
     ]
    }
   ],
   "source": [
    "# Inicializa uma lista vazia para armazenar as notas\n",
    "notas = []\n",
    "\n",
    "# Loop para ler 4 notas\n",
    "for i in range(4):\n",
    "    # Solicita ao usuário que digite uma nota e converte para ponto flutuante\n",
    "    nota = float(input(f'Digite a {i+1}ª nota: '))\n",
    "\n",
    "    # Adiciona a nota à lista 'notas'\n",
    "    notas.append(nota)\n",
    "\n",
    "# Exibe as notas lidas\n",
    "print('Notas digitadas:')\n",
    "for nota in notas:\n",
    "    print(nota)\n",
    "\n",
    "# Calcula a média das notas\n",
    "media = sum(notas) / len(notas) # Perceba que aqui usamos o len para obter o tamanho da lista (apesar que já sabíamos que era 4)\n",
    "\n",
    "# Exibe a média\n",
    "print(f'Média das notas: {media}')"
   ]
  },
  {
   "cell_type": "markdown",
   "metadata": {
    "id": "vXb6d1bqSHNw"
   },
   "source": [
    "\n",
    "4. Faça um Programa que leia um vetor de 10 caracteres, e diga quantas consoantes foram\n",
    "lidas. Imprima as consoantes."
   ]
  },
  {
   "cell_type": "code",
   "execution_count": 3,
   "metadata": {
    "id": "bJjEnVNPdBzv"
   },
   "outputs": [
    {
     "name": "stdout",
     "output_type": "stream",
     "text": [
      "Digite o 1º caractere: d\n",
      "Digite o 2º caractere: e\n",
      "Digite o 3º caractere: g\n",
      "Digite o 4º caractere: r\n",
      "Digite o 5º caractere: w\n",
      "Digite o 6º caractere: o\n",
      "Digite o 7º caractere: j\n",
      "Digite o 8º caractere: u\n",
      "Digite o 9º caractere: q\n",
      "Digite o 10º caractere: w\n",
      "Consoantes digitadas:\n",
      "d\n",
      "g\n",
      "r\n",
      "w\n",
      "j\n",
      "q\n",
      "w\n",
      "Total de consoantes: 7\n"
     ]
    }
   ],
   "source": [
    "# Inicializa uma lista vazia para armazenar os caracteres\n",
    "caracteres = []\n",
    "\n",
    "# Inicializa uma lista vazia para armazenar as consoantes\n",
    "consoantes = []\n",
    "\n",
    "# Define uma lista com as vogais\n",
    "vogais = ['a', 'e', 'i', 'o', 'u']\n",
    "\n",
    "# Loop para ler 10 caracteres\n",
    "for i in range(10):\n",
    "    # Solicita ao usuário que digite um caractere e converte para letra minúscula\n",
    "    caractere = input(f'Digite o {i+1}º caractere: ').lower()\n",
    "\n",
    "    # Adiciona o caractere à lista 'caracteres'\n",
    "    caracteres.append(caractere)\n",
    "\n",
    "# Loop para verificar e contar as consoantes\n",
    "for caractere in caracteres:\n",
    "    # Verifica se o caractere é uma letra minúscula\n",
    "    if caractere.isalpha():\n",
    "        # Verifica se o caractere não é uma vogal. Se é letra e não é vogal... é consoante.\n",
    "        if caractere not in vogais: # Se o caractere NÃO ESTÁ na lista de vogais...\n",
    "            consoantes.append(caractere)\n",
    "\n",
    "# Exibe as consoantes\n",
    "print('Consoantes digitadas:')\n",
    "for consoante in consoantes: # Para cada elemento na lista consoantes, imprima este elemento (poderia chamar de el, x, y, i... ao invés de consoante)\n",
    "    print(consoante)\n",
    "\n",
    "# Conta e exibe a quantidade de consoantes\n",
    "quantidade_consoantes = len(consoantes)\n",
    "print(f'Total de consoantes: {quantidade_consoantes}')\n"
   ]
  },
  {
   "cell_type": "markdown",
   "metadata": {
    "id": "YpexeOieSJvv"
   },
   "source": [
    "\n",
    "5. Faça um Programa que leia 20 números inteiros e armazene-os num vetor. Armazene os\n",
    "números pares no vetor PAR e os números IMPARES no vetor impar. Imprima os três\n",
    "vetores."
   ]
  },
  {
   "cell_type": "code",
   "execution_count": 4,
   "metadata": {
    "id": "zhxL8UwPdEW_"
   },
   "outputs": [
    {
     "name": "stdout",
     "output_type": "stream",
     "text": [
      "Digite o 1º número inteiro: 1\n",
      "Digite o 2º número inteiro: 2\n",
      "Digite o 3º número inteiro: 3\n",
      "Digite o 4º número inteiro: 6\n",
      "Digite o 5º número inteiro: 5\n",
      "Digite o 6º número inteiro: 4\n",
      "Digite o 7º número inteiro: 7\n",
      "Digite o 8º número inteiro: 8\n",
      "Digite o 9º número inteiro: 9\n",
      "Digite o 10º número inteiro: 5\n",
      "Digite o 11º número inteiro: 56\n",
      "Digite o 12º número inteiro: 7\n",
      "Digite o 13º número inteiro: 89\n",
      "Digite o 14º número inteiro: 99\n",
      "Digite o 15º número inteiro: 22\n",
      "Digite o 16º número inteiro: 44\n",
      "Digite o 17º número inteiro: 44\n",
      "Digite o 18º número inteiro: 45\n",
      "Digite o 19º número inteiro: 65\n",
      "Digite o 20º número inteiro: 98\n",
      "Números lidos:\n",
      "[1, 2, 3, 6, 5, 4, 7, 8, 9, 5, 56, 7, 89, 99, 22, 44, 44, 45, 65, 98]\n",
      "Números pares:\n",
      "[2, 6, 4, 8, 56, 22, 44, 44, 98]\n",
      "Números ímpares:\n",
      "[1, 3, 5, 7, 9, 5, 7, 89, 99, 45, 65]\n"
     ]
    }
   ],
   "source": [
    "# Inicializa as listas vazias para armazenar os números, pares e ímpares\n",
    "numeros = []\n",
    "pares = []\n",
    "impares = []\n",
    "\n",
    "# Loop para ler 20 números inteiros\n",
    "for i in range(20):\n",
    "    # Solicita ao usuário que digite um número inteiro e converte para inteiro\n",
    "    numero = int(input(f'Digite o {i+1}º número inteiro: '))\n",
    "\n",
    "    # Adiciona o número à lista 'numeros'\n",
    "    numeros.append(numero)\n",
    "\n",
    "# Loop para separar números pares e ímpares\n",
    "for numero in numeros:\n",
    "    if numero % 2 == 0: # Quando dividimos por 2 e o resto é zero, sabemos que um número é par.\n",
    "        pares.append(numero)  # Adiciona número par à lista 'pares'\n",
    "    else: # Se o resto da divisão por 2 não for zero, então é ímpar\n",
    "        impares.append(numero)  # Adiciona número ímpar à lista 'impares'\n",
    "\n",
    "# Exibe os números lidos, os números pares e os números ímpares\n",
    "print('Números lidos:')\n",
    "print(numeros)\n",
    "print('Números pares:')\n",
    "print(pares)\n",
    "print('Números ímpares:')\n",
    "print(impares)"
   ]
  },
  {
   "cell_type": "markdown",
   "metadata": {
    "id": "Opbf1uDOSMKb"
   },
   "source": [
    "\n",
    "6. Faça um Programa que peça as quatro notas de 10 alunos, calcule e armazene num vetor\n",
    "a média de cada aluno, imprima o número de alunos com média maior ou igual a 7.0."
   ]
  },
  {
   "cell_type": "code",
   "execution_count": 5,
   "metadata": {
    "id": "2pJLc2ardG73"
   },
   "outputs": [
    {
     "name": "stdout",
     "output_type": "stream",
     "text": [
      "Aluno 1:\n",
      "\tDigite a primeira nota: 78\n",
      "\tDigite a segunda nota: 9\n",
      "\tDigite a terceira nota: 9\n",
      "\tDigite a quarta nota: 8\n",
      "Aluno 2:\n",
      "\tDigite a primeira nota: 5\n",
      "\tDigite a segunda nota: 5\n",
      "\tDigite a terceira nota: 6\n",
      "\tDigite a quarta nota: 6\n",
      "Aluno 3:\n",
      "\tDigite a primeira nota: 6\n",
      "\tDigite a segunda nota: 6\n",
      "\tDigite a terceira nota: 6\n",
      "\tDigite a quarta nota: 6\n",
      "Aluno 4:\n",
      "\tDigite a primeira nota: 7\n",
      "\tDigite a segunda nota: 7\n",
      "\tDigite a terceira nota: 7\n",
      "\tDigite a quarta nota: 8\n",
      "Aluno 5:\n",
      "\tDigite a primeira nota: 7\n",
      "\tDigite a segunda nota: 8\n",
      "\tDigite a terceira nota: 9\n",
      "\tDigite a quarta nota: 6\n",
      "Aluno 6:\n",
      "\tDigite a primeira nota: 5\n",
      "\tDigite a segunda nota: 5\n",
      "\tDigite a terceira nota: 5\n",
      "\tDigite a quarta nota: 5\n",
      "Aluno 7:\n",
      "\tDigite a primeira nota: 5\n",
      "\tDigite a segunda nota: 5\n",
      "\tDigite a terceira nota: 5\n",
      "\tDigite a quarta nota: 7\n",
      "Aluno 8:\n",
      "\tDigite a primeira nota: 7\n",
      "\tDigite a segunda nota: 7\n",
      "\tDigite a terceira nota: 7\n",
      "\tDigite a quarta nota: 9\n",
      "Aluno 9:\n",
      "\tDigite a primeira nota: 9\n",
      "\tDigite a segunda nota: 9\n",
      "\tDigite a terceira nota: 9\n",
      "\tDigite a quarta nota: 9\n",
      "Aluno 10:\n",
      "\tDigite a primeira nota: 9\n",
      "\tDigite a segunda nota: 9\n",
      "\tDigite a terceira nota: 9\n",
      "\tDigite a quarta nota: 9\n",
      "Número de alunos com média maior ou igual a 7.0: 6\n"
     ]
    }
   ],
   "source": [
    "# Inicializa uma lista vazia para armazenar as médias dos alunos\n",
    "medias = []\n",
    "\n",
    "# Inicializa uma variável para contar o número de alunos com média maior ou igual a 7.0\n",
    "alunos_aprovados = 0\n",
    "\n",
    "# Loop para ler as notas de 10 alunos\n",
    "for i in range(10):\n",
    "    # Solicita ao usuário as quatro notas do aluno da vez\n",
    "    print(f'Aluno {i + 1}:')\n",
    "    nota1 = float(input('\\tDigite a primeira nota: '))\n",
    "    nota2 = float(input('\\tDigite a segunda nota: '))\n",
    "    nota3 = float(input('\\tDigite a terceira nota: '))\n",
    "    nota4 = float(input('\\tDigite a quarta nota: '))\n",
    "\n",
    "    # Calcula a média do aluno da vez\n",
    "    media = (nota1 + nota2 + nota3 + nota4) / 4\n",
    "\n",
    "    # Adiciona a média à lista 'medias'\n",
    "    medias.append(media)\n",
    "\n",
    "# Loop para verificar as médias e contar os alunos aprovados\n",
    "for media in medias:\n",
    "    if media >= 7.0:\n",
    "        alunos_aprovados += 1\n",
    "\n",
    "# Exibe o número de alunos aprovados\n",
    "print(f'Número de alunos com média maior ou igual a 7.0: {alunos_aprovados}')\n"
   ]
  },
  {
   "cell_type": "markdown",
   "metadata": {
    "id": "5P-033DBSOrm"
   },
   "source": [
    "\n",
    "7. Faça um Programa que leia um vetor de 5 números inteiros, mostre a soma, a\n",
    "multiplicação e os números."
   ]
  },
  {
   "cell_type": "code",
   "execution_count": 6,
   "metadata": {
    "id": "r1vvBo8kdIvK"
   },
   "outputs": [
    {
     "name": "stdout",
     "output_type": "stream",
     "text": [
      "Digite o 1º número inteiro: 1\n",
      "Digite o 2º número inteiro: 2\n",
      "Digite o 3º número inteiro: 3\n",
      "Digite o 4º número inteiro: 6\n",
      "Digite o 5º número inteiro: 5\n",
      "Números lidos: [1, 2, 3, 6, 5]\n",
      "Soma dos números: 17\n",
      "Multiplicação dos números: 180\n"
     ]
    }
   ],
   "source": [
    "# Inicializa uma lista vazia para armazenar os números\n",
    "numeros = []\n",
    "\n",
    "# Inicializa as variáveis de soma e multiplicação\n",
    "soma = 0\n",
    "multiplicacao = 1 # Se liga nessa inicialização com 1 (que é o elemento neutro). Assim não influenciamos nas contas depois.\n",
    "\n",
    "# Loop para ler 5 números inteiros\n",
    "for i in range(5):\n",
    "    # Solicita ao usuário que digite um número inteiro e converte para inteiro\n",
    "    numero = int(input(f'Digite o {i+1}º número inteiro: '))\n",
    "\n",
    "    # Adiciona o número à lista 'numeros'\n",
    "    numeros.append(numero)\n",
    "\n",
    "# Calcula a soma dos números na lista 'numeros'\n",
    "soma = sum(numeros) # Perceba que temos uma função nativa pra isso: sum\n",
    "\n",
    "# Calcula a multiplicação dos números na lista 'numeros'\n",
    "for numero in numeros: # Para cada elemento da lista numeros\n",
    "    multiplicacao *= numero # *= é o mesmo que multiplicacao = multiplicacao * numero\n",
    "\n",
    "# Exibe os números lidos, a soma e a multiplicação\n",
    "print('Números lidos:', numeros)\n",
    "print('Soma dos números:', soma)\n",
    "print('Multiplicação dos números:', multiplicacao)"
   ]
  },
  {
   "cell_type": "markdown",
   "metadata": {
    "id": "zYuDA92sSRF8"
   },
   "source": [
    "\n",
    "8. Faça um Programa que peça a idade e a altura de 5 pessoas, armazene cada informação\n",
    "no seu respectivo vetor. Imprima a idade e a altura na ordem inversa da ordem lida."
   ]
  },
  {
   "cell_type": "code",
   "execution_count": 8,
   "metadata": {
    "id": "6KDCDxaldLAH",
    "scrolled": true
   },
   "outputs": [
    {
     "name": "stdout",
     "output_type": "stream",
     "text": [
      "Digite a idade da 1ª pessoa: 75\n",
      "Digite a altura da 1ª pessoa (em metros): 45\n",
      "Digite a idade da 2ª pessoa: 48\n",
      "Digite a altura da 2ª pessoa (em metros): 46\n",
      "Digite a idade da 3ª pessoa: 45\n",
      "Digite a altura da 3ª pessoa (em metros): 65\n",
      "Digite a idade da 4ª pessoa: 85\n",
      "Digite a altura da 4ª pessoa (em metros): 95\n",
      "Digite a idade da 5ª pessoa: 75\n",
      "Digite a altura da 5ª pessoa (em metros): 55\n",
      "\n",
      "Idades na ordem inversa:\n",
      "75\n",
      "85\n",
      "45\n",
      "48\n",
      "75\n",
      "\n",
      "Alturas na ordem inversa:\n",
      "55.0\n",
      "95.0\n",
      "65.0\n",
      "46.0\n",
      "45.0\n"
     ]
    }
   ],
   "source": [
    "# Inicializa vetores vazios para idade e altura\n",
    "idades = []\n",
    "alturas = []\n",
    "\n",
    "# Loop para ler a idade e a altura de 5 pessoas\n",
    "for i in range(5):\n",
    "    # Solicita ao usuário que digite a idade e converte para inteiro\n",
    "    idade = int(input(f'Digite a idade da {i+1}ª pessoa: '))\n",
    "\n",
    "    # Solicita ao usuário que digite a altura e converte para float\n",
    "    altura = float(input(f'Digite a altura da {i+1}ª pessoa (em metros): '))\n",
    "\n",
    "    # Adiciona a idade e a altura aos vetores correspondentes\n",
    "    idades.append(idade)\n",
    "    alturas.append(altura)\n",
    "\n",
    "# Imprime as idades e alturas na ordem inversa\n",
    "print('\\nIdades na ordem inversa:')\n",
    "for idade in reversed(idades): # Olha essa maneira de correr a lista ao contrário usando reversed\n",
    "    print(idade)\n",
    "\n",
    "print('\\nAlturas na ordem inversa:')\n",
    "for altura in reversed(alturas):\n",
    "    print(altura)\n"
   ]
  },
  {
   "cell_type": "markdown",
   "metadata": {
    "id": "R-rQi6PoSTpD"
   },
   "source": [
    "\n",
    "9. Utilizando listas faça um programa que faça 5 perguntas para uma pessoa sobre um\n",
    "crime. <br>As perguntas são:\n",
    "> a. \"Telefonou para a vítima?\"<br>\n",
    "> b. \"Esteve no local do crime?\"<br>\n",
    "> c. \"Mora perto da vítima?\"<br>\n",
    "> d. \"Devia para a vítima?\"<br>\n",
    "> e. \"Já trabalhou com a vítima?\"<br>O programa deve no final emitir uma classificação sobre a participação da pessoa no crime. Se a pessoa responder positivamente a 2 questões ela deve ser classificada como \"Suspeita\", entre 3 e 4 como \"Cúmplice\" e 5 como \"Assassino\". Caso contrário, ele será classificado como \"Inocente\"."
   ]
  },
  {
   "cell_type": "code",
   "execution_count": 9,
   "metadata": {
    "id": "AuATKu6kSWML"
   },
   "outputs": [
    {
     "name": "stdout",
     "output_type": "stream",
     "text": [
      "Telefonou para a vítima? (S ou N): s\n",
      "Esteve no local do crime? (S ou N): n\n",
      "Mora perto da vítima? (S ou N): s\n",
      "Devia para a vítima? (S ou N): n\n",
      "Já trabalhou com a vítima? (S ou N): n\n",
      "Você é Suspeito. 🕵️‍♂️\n"
     ]
    }
   ],
   "source": [
    "# Inicializamos uma lista de respostas\n",
    "respostas = []\n",
    "\n",
    "# Fazemos as 5 perguntas e armazenamos as respostas na lista\n",
    "respostas.append(input(\"Telefonou para a vítima? (S ou N): \").upper())\n",
    "respostas.append(input(\"Esteve no local do crime? (S ou N): \").upper())\n",
    "respostas.append(input(\"Mora perto da vítima? (S ou N): \").upper())\n",
    "respostas.append(input(\"Devia para a vítima? (S ou N): \").upper())\n",
    "respostas.append(input(\"Já trabalhou com a vítima? (S ou N): \").upper())\n",
    "\n",
    "# Contamos quantas respostas positivas (S) foram dadas\n",
    "respostas_positivas = respostas.count('S')\n",
    "\n",
    "# Agora, a parte emocionante...\n",
    "\n",
    "# Se você deu exatamente 2 respostas positivas, você é Suspeito. Não vá longe!\n",
    "if respostas_positivas == 2:\n",
    "    print(\"Você é Suspeito. 🕵️‍♂️\")\n",
    "\n",
    "# Se você deu 3 ou 4 respostas positivas, você é Cúmplice. Está começando a ficar complicado...\n",
    "elif respostas_positivas == 3 or respostas_positivas == 4:\n",
    "    print(\"Você é Cúmplice. 👥\")\n",
    "\n",
    "# Se você deu todas as respostas positivas, você é o Assassino! 🙀\n",
    "elif respostas_positivas == 5:\n",
    "    print(\"Você é o Assassino! 🔪💀\")\n",
    "\n",
    "# Se não se encaixou em nenhuma das opções anteriores, você é Inocente. 🙌\n",
    "else:\n",
    "    print(\"Você é Inocente. 😇\")\n",
    "\n",
    "# E agora, a plateia aplaude! 👏"
   ]
  },
  {
   "cell_type": "markdown",
   "metadata": {
    "id": "qEK2ldRUSWk1"
   },
   "source": [
    "\n",
    "10. Faça um programa que leia um número indeterminado de valores, correspondentes a\n",
    "notas, encerrando a entrada de dados quando for informado um valor igual a -1 (que não\n",
    "deve ser armazenado). Após esta entrada de dados, faça:\n",
    "> a. Mostre a quantidade de valores que foram lidos;<br>\n",
    "> b. Exiba todos os valores na ordem em que foram informados, um ao lado do outro;<br>\n",
    "> c. Exiba todos os valores na ordem inversa à que foram informados, um abaixo do\n",
    "outro;<br>\n",
    "> d. Calcule e mostre a soma dos valores;<br>\n",
    "> e. Calcule e mostre a média dos valores;<br>\n",
    "> f. Calcule e mostre a quantidade de valores acima da média calculada;<br>\n",
    "> g. Calcule e mostre a quantidade de valores abaixo de sete;<br>\n",
    "> h. Encerre o programa com uma mensagem;"
   ]
  },
  {
   "cell_type": "code",
   "execution_count": 11,
   "metadata": {
    "id": "0fNE-CyVSXfT"
   },
   "outputs": [
    {
     "name": "stdout",
     "output_type": "stream",
     "text": [
      "Me dê uma nota (-1 para dar um tchau): 9\n",
      "Me dê uma nota (-1 para dar um tchau): 8\n",
      "Me dê uma nota (-1 para dar um tchau): -1\n",
      "Você me deu 2 notas. Uau!\n",
      "Aqui estão as notas que você me deu (na mesma linha):\n",
      "9.0 8.0 \n",
      "Aqui estão as notas, mas agora na ordem reversa:\n",
      "8.0\n",
      "9.0\n",
      "A soma das notas é: 17.0.\n",
      "A média das notas é: 8.50.\n",
      "Temos 1 notas acima da média. Impressionante!\n",
      "Você tem 0 notas abaixo de 7. Estamos de olho! 😉\n",
      "Ok, acabou! Até a próxima!\n"
     ]
    }
   ],
   "source": [
    "# Inicializamos uma lista para armazenar as notas\n",
    "notas = []\n",
    "\n",
    "# Agora, vamos criar um loop que vai continuar pedindo notas até que a gente canse\n",
    "while True:\n",
    "    # Pedimos uma nota e a armazenamos\n",
    "    nota = float(input(\"Me dê uma nota (-1 para dar um tchau): \"))\n",
    "\n",
    "    # Se a nota for -1, então é hora de dizer adeus a este loop\n",
    "    if nota == -1:\n",
    "        break\n",
    "\n",
    "    # Senão, vamos adicionar a nota à nossa coleção de notas\n",
    "    notas.append(nota)\n",
    "\n",
    "# a. Contamos quantas notas a gente pegou\n",
    "quantidade = len(notas)\n",
    "print(f\"Você me deu {quantidade} notas. Uau!\")\n",
    "\n",
    "# b. Listamos todas as notas na ordem que você deu, lado a lado\n",
    "print(\"Aqui estão as notas que você me deu (na mesma linha):\")\n",
    "for nota in notas:\n",
    "    # Quando passamos end=\" \" no final do print, estamos dizendo que, no final, queremos espaço em branco e não quebra de linha (padrão)\n",
    "    print(nota, end=\" \")\n",
    "\n",
    "# c. Agora, listamos as notas na ordem inversa, uma embaixo da outra\n",
    "print(\"\\nAqui estão as notas, mas agora na ordem reversa:\")\n",
    "for nota in reversed(notas):\n",
    "    print(nota)\n",
    "\n",
    "# d. Vamos calcular e mostrar a soma das notas\n",
    "soma = sum(notas)\n",
    "print(f\"A soma das notas é: {soma}.\")\n",
    "\n",
    "# e. Vamos calcular e mostrar a média das notas\n",
    "media = soma / quantidade\n",
    "print(f\"A média das notas é: {media:.2f}.\")\n",
    "\n",
    "# f. Contamos quantas notas estão acima da média\n",
    "acima_da_media = len([nota for nota in notas if nota > media])\n",
    "print(f\"Temos {acima_da_media} notas acima da média. Impressionante!\")\n",
    "\n",
    "# g. Contamos quantas notas estão abaixo de 7\n",
    "abaixo_de_sete = len([nota for nota in notas if nota < 7])\n",
    "print(f\"Você tem {abaixo_de_sete} notas abaixo de 7. Estamos de olho! 😉\")\n",
    "\n",
    "# h. E finalmente, dizemos adeus de verdade\n",
    "print(\"Ok, acabou! Até a próxima!\")\n"
   ]
  }
 ],
 "metadata": {
  "colab": {
   "include_colab_link": true,
   "provenance": []
  },
  "kernelspec": {
   "display_name": "Python 3 (ipykernel)",
   "language": "python",
   "name": "python3"
  },
  "language_info": {
   "codemirror_mode": {
    "name": "ipython",
    "version": 3
   },
   "file_extension": ".py",
   "mimetype": "text/x-python",
   "name": "python",
   "nbconvert_exporter": "python",
   "pygments_lexer": "ipython3",
   "version": "3.11.3"
  }
 },
 "nbformat": 4,
 "nbformat_minor": 1
}
