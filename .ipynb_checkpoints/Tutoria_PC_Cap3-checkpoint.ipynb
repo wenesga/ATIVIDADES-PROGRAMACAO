{
 "cells": [
  {
   "cell_type": "markdown",
   "metadata": {
    "colab_type": "text",
    "id": "view-in-github"
   },
   "source": [
    "<a href=\"https://colab.research.google.com/github/wenesga/Atividades-de-Programacao/blob/main/Tutoria_PC_Cap3.ipynb\" target=\"_parent\"><img src=\"https://colab.research.google.com/assets/colab-badge.svg\" alt=\"Open In Colab\"/></a>"
   ]
  },
  {
   "cell_type": "markdown",
   "metadata": {
    "id": "le2eX53gEuUa"
   },
   "source": [
    "# UFT - Licenciatura em Computação\n",
    "## Programação de Computadores\n",
    "### Exercícios de Fixação\n",
    "### Semana 3: Estruturas de Controle Sequencial e Condicional**\n",
    "#### *MSc. Denis Passos (tutor online)*\n",
    "\n"
   ]
  },
  {
   "cell_type": "markdown",
   "metadata": {
    "id": "v8dbFer28x61"
   },
   "source": [
    "---\n",
    "#### Aluno: Wenes Aquino\n",
    "---"
   ]
  },
  {
   "cell_type": "markdown",
   "metadata": {
    "id": "F-JmwiQdL2DV"
   },
   "source": [
    "1) Desenvolva um algoritmo em Python para verificar se um aluno foi aprovado em uma\n",
    "disciplina. O algoritmo deve solicitar ao usuário que digite a nota do aluno e verificar se a\n",
    "nota é maior ou igual a 7. Caso a nota seja maior ou igual a 7, o algoritmo deve exibir a\n",
    "mensagem \"Aluno aprovado\". Caso contrário, o algoritmo deve exibir a mensagem \"Aluno\n",
    "reprovado\".\n"
   ]
  },
  {
   "cell_type": "code",
   "execution_count": null,
   "metadata": {
    "id": "3Q3wXtAkL7MU"
   },
   "outputs": [],
   "source": [
    "nota = float(input(\"Digite a nota do aluno: \"))\n",
    "\n",
    "if(nota >= 7):\n",
    "    print('Aluno Aprovado')\n",
    "else:\n",
    "    print('Aluno Reprovado')"
   ]
  },
  {
   "cell_type": "markdown",
   "metadata": {
    "id": "gXJhlXq4L8d8"
   },
   "source": [
    "2) Desenvolva um algoritmo em Python para determinar se um ano é bissexto. O algoritmo\n",
    "deve solicitar ao usuário que digite um ano e verificar se o ano é bissexto. Um ano é\n",
    "bissexto se for divisível por 4, mas não por 100, exceto se for divisível por 400. Caso o\n",
    "ano seja bissexto, o algoritmo deve exibir a mensagem \"Ano bissexto\". Caso contrário, o\n",
    "algoritmo deve exibir a mensagem \"Ano não bissexto\".\n"
   ]
  },
  {
   "cell_type": "code",
   "execution_count": null,
   "metadata": {
    "id": "EjhaPtOjL_O2"
   },
   "outputs": [],
   "source": [
    "ano = int(input(\"Digite um ano: \"))\n",
    "\n",
    "if (ano % 4 == 0 and ano % 100 != 0) or (ano % 400 == 0):\n",
    "    print(\"Ano Bissexto\")\n",
    "else:\n",
    "    print(\"Ano Não Bissexto\")\n"
   ]
  },
  {
   "cell_type": "markdown",
   "metadata": {
    "id": "KpZWyfVdL_jz"
   },
   "source": [
    "3) Desenvolva um algoritmo em Python para determinar se uma pessoa tem direito a\n",
    "desconto em um ingresso de cinema. O algoritmo deve solicitar ao usuário que digite a\n",
    "idade da pessoa e verificar se ela tem menos de 12 anos ou mais de 60 anos. Se a idade\n",
    "estiver dentro dessas faixas, a pessoa terá direito a um desconto de 50% no valor do\n",
    "ingresso. Caso contrário, não haverá desconto. O algoritmo deve exibir o valor a ser pago\n",
    "pelo ingresso, considerando o desconto, se aplicável.\n"
   ]
  },
  {
   "cell_type": "code",
   "execution_count": null,
   "metadata": {
    "id": "Hn1Zhlb1MBkz"
   },
   "outputs": [],
   "source": [
    "idade = int(input(\"Digite sua idade: \"))\n",
    "valor_ingresso = 25\n",
    "\n",
    "if idade < 12 or idade > 60:\n",
    "    desconto = valor_ingresso * 0.5\n",
    "else:\n",
    "    desconto = valor_ingresso\n",
    "    \n",
    "print(f\"Valor a ser pago é: {desconto}\")"
   ]
  },
  {
   "cell_type": "markdown",
   "metadata": {
    "id": "a3z9RDbdMB8k"
   },
   "source": [
    "4) Desenvolva um algoritmo em Python para calcular o índice de massa corporal (IMC) de\n",
    "uma pessoa. O algoritmo deve solicitar ao usuário que digite o peso e a altura da pessoa\n",
    "e calcular o IMC usando a fórmula: IMC = peso / (altura * altura). Em seguida, o algoritmo\n",
    "deve verificar em qual faixa o IMC se encontra e exibir uma mensagem correspondente.\n",
    "Por exemplo, se o IMC for menor que 18.5, o algoritmo deve exibir a mensagem \"Abaixo\n",
    "do peso\". Se o IMC estiver entre 18.5 e 24.9, o algoritmo deve exibir a mensagem \"Peso\n",
    "normal\". E assim por diante, de acordo com as faixas de IMC estabelecidas."
   ]
  },
  {
   "cell_type": "code",
   "execution_count": null,
   "metadata": {
    "id": "Y6HyCLTEMGgT"
   },
   "outputs": [],
   "source": [
    "peso = float(input('Digite seu peso: '))\n",
    "altura = float(input('Digite sua altura em metros: '))\n",
    "\n",
    "imc = peso / (altura * altura)\n",
    "\n",
    "print(f\"IMC = {imc}\")\n",
    "\n",
    "if imc < 18.5:\n",
    "    print(\"Abaixo do peso\")\n",
    "\n",
    "elif (imc > 18.5 and imc < 24.9):\n",
    "    print(\"Peso normal\")\n",
    "    \n",
    "else:\n",
    "    print(\"Acima do peso\")"
   ]
  },
  {
   "cell_type": "markdown",
   "metadata": {
    "id": "tMZ06I2kMINi"
   },
   "source": [
    "5) Conversor de Moedas<br>\n",
    "> Desenvolva um algoritmo em Python para criar um conversor de moedas que permita ao usuário\n",
    "converter valores entre diferentes moedas. O algoritmo deve utilizar os conceitos estudados,\n",
    "como declaração de variáveis, atribuição de valores, operações matemáticas, entrada de dados\n",
    "do usuário e exibição de resultados na tela.\n",
    "\n",
    "Passos do algoritmo:\n",
    "Declare as variáveis de conversão para cada moeda desejada, por exemplo:\n",
    "```\n",
    "taxa_dolar = 5.25 # Valor da taxa de câmbio do dólar em relação à moeda local\n",
    "taxa_euro = 6.15 # Valor da taxa de câmbio do euro em relação à moeda local\n",
    "```\n",
    "Solicite ao usuário o valor a ser convertido e a moeda de origem:\n",
    "```\n",
    "valor_origem = float(input(\"Digite o valor a ser convertido: \"))\n",
    "moeda_origem = input(\"Digite a moeda de origem (ex: BRL, USD, EUR): \")\n",
    "```\n",
    "Solicite ao usuário a moeda de destino:\n",
    "```\n",
    "moeda_destino = input(\"Digite a moeda de destino (ex: BRL, USD, EUR): \")\n",
    "```\n",
    "Utilize estruturas condicionais (if/elif/else) para realizar a conversão de acordo com as moedas selecionadas:\n",
    "> Se moeda_origem for igual a \"BRL\" e moeda_destino for igual a \"USD\", o valor convertido será valor_origem dividido pela taxa_dolar.\n",
    "> Se moeda_origem for igual a \"BRL\" e moeda_destino for igual a \"EUR\", o valor convertido será valor_origem dividido pela taxa_euro.\n",
    "\n",
    "Adicione outras condições de acordo com as moedas que deseja incluir.<br>\n",
    "Exiba na tela o valor convertido:\n",
    "```\n",
    "print(\"Valor convertido:\", valor_convertido)\n",
    "```\n",
    "Exemplo de saída esperada:\n",
    "```\n",
    "Digite o valor a ser convertido: 100\n",
    "Digite a moeda de origem (ex: BRL, USD, EUR): BRL\n",
    "Digite a moeda de destino (ex: BRL, USD, EUR): USD\n",
    "Valor convertido: 19.05\n",
    "```\n",
    "Neste exercício, você estará aplicando os conceitos estudados para criar um algoritmo mais complexo, que envolve declaração de variáveis, atribuição de valores, operações matemáticas e estruturas condicionais. Essa é uma aplicação prática dos conceitos, já que a conversão de moedas é um problema real que enfrentamos ao viajar ou fazer transações financeiras internacionais.<br>\n",
    "Lembre-se de testar seu algoritmo com diferentes valores e moedas para garantir que as conversões estejam corretas.<br>\n",
    "Divirta-se desenvolvendo seu algoritmo de conversão de moedas e aproveite para explorar a funcionalidade e utilidade dos conceitos aprendidos!<br>\n",
    "Bons estudos e sucesso no desenvolvimento do algoritmo de conversor de moedas!\n",
    "\n"
   ]
  },
  {
   "cell_type": "code",
   "execution_count": 26,
   "metadata": {
    "id": "37iGdSBrMN17"
   },
   "outputs": [
    {
     "name": "stdout",
     "output_type": "stream",
     "text": [
      "Digite o valor a ser convertido: 100\n",
      "Digite a moeda de origem (ex: brl, usd, btc): brl\n",
      "Digite a moeda de destino (ex: brl, usd, btc): btc\n",
      "Resultado: 100.0 brl = 0.00078125 btc\n"
     ]
    }
   ],
   "source": [
    "valor_origem = float(input(\"Digite o valor a ser convertido: \"))\n",
    "moeda_origem = input(\"Digite a moeda de origem (ex: brl, usd, btc): \")\n",
    "moeda_destino = input(\"Digite a moeda de destino (ex: brl, usd, btc): \")\n",
    "\n",
    "taxa_dolar = 4.85\n",
    "taxa_euro = 5.30\n",
    "taxa_bitcoin_brl = 128000\n",
    "\n",
    "def converte(valor, taxa):\n",
    "    return valor / taxa\n",
    "    \n",
    "if moeda_origem == 'brl' and moeda_destino == 'usd': \n",
    "    resultado = converte(valor_origem, taxa_dolar)\n",
    "\n",
    "elif moeda_origem == 'brl' and moeda_destino == 'btc':\n",
    "    resultado = converte(valor_origem, taxa_bitcoin_brl)\n",
    "    \n",
    "elif moeda_origem == 'btc' and moeda_destino == 'brl':\n",
    "    resultado = converte(valor_origem * taxa_bitcoin_brl, 1)\n",
    "    \n",
    "elif moeda_origem == 'btc' and moeda_destino == 'usd':\n",
    "    resultado = converte(taxa_bitcoin_brl * valor_origem, taxa_dolar)\n",
    "\n",
    "elif moeda_origem == 'usd' and moeda_destino == 'brl': \n",
    "    resultado = converte(valor_origem * taxa_dolar, 1)\n",
    "\n",
    "elif moeda_origem == 'usd' and moeda_destino == 'btc': \n",
    "    resultado = converte(taxa_dolar, taxa_bitcoin_brl) * valor_origem\n",
    "    \n",
    "print(f\"Resultado: {valor_origem} {moeda_origem} = {resultado} {moeda_destino}\")"
   ]
  },
  {
   "cell_type": "markdown",
   "metadata": {
    "id": "q4y0vMujMc_h"
   },
   "source": [
    "6) Desenvolva um algoritmo em Python para calcular o preço final de um produto em uma loja, considerando os seguintes critérios:<br>\n",
    "> > * Se o preço do produto for maior que R\\$ 100,00 e o cliente for VIP, aplique um desconto de 10% no preço final.<br>\n",
    "> > * Se o preço do produto for maior que R\\$ 100,00 e o cliente não for VIP, aplique um desconto de 5% no preço final.<br>\n",
    "> > * Se o preço do produto for menor ou igual a R\\$ 100,00, não aplique nenhum desconto.<br>\n",
    "\n",
    "> O algoritmo deve solicitar o preço do produto e se o cliente é VIP ou não. Em seguida, ele deve calcular e exibir o preço final após aplicar o desconto, se aplicável.<br>\n",
    "> Dica: Utilize a função input() para receber os valores digitados pelo usuário e a função float() para converter os valores para números decimais.<br>\n",
    "> Sua tarefa é escrever o algoritmo completo, incluindo as estruturas condicionais if e else.<br>\n",
    "> Certifique-se de testar seu algoritmo com diferentes valores de entrada para garantir que ele esteja funcionando corretamente.<br>\n",
    "> Lembre-se de comentar seu código para melhorar a legibilidade e explicar cada etapa do algoritmo.\n"
   ]
  },
  {
   "cell_type": "code",
   "execution_count": 5,
   "metadata": {
    "id": "pe_yMrifQZD9"
   },
   "outputs": [],
   "source": [
    "# ESCREVA AQUI SEU CÓDIGO"
   ]
  },
  {
   "cell_type": "markdown",
   "metadata": {
    "id": "JYdcF11UQhIW"
   },
   "source": [
    "7) Desenvolva um algoritmo em Python para verificar se um número digitado pelo\n",
    "usuário é par ou ímpar. O algoritmo deve solicitar ao usuário que digite um\n",
    "número inteiro e, em seguida, verificar se o número é par ou ímpar. Caso seja par, o algoritmo deve exibir a mensagem \"O número é par\". Caso seja ímpar, o\n",
    "algoritmo deve exibir a mensagem \"O número é ímpar\".\n",
    ">> Dica:<br>Utilize a função input() para receber o valor digitado pelo usuário e a função int() para converter o valor para um número inteiro.<br>\n",
    "\n",
    "> Sua tarefa é escrever o algoritmo completo, incluindo as estruturas condicionais if e else.<br>\n",
    "> Certifique-se de testar seu algoritmo com diferentes valores de entrada para garantir que ele esteja funcionando corretamente.<br>\n",
    "> Lembre-se de comentar seu código para melhorar a legibilidade e explicar cada etapa do algoritmo."
   ]
  },
  {
   "cell_type": "code",
   "execution_count": null,
   "metadata": {
    "id": "QPHeTdFgQ1KI"
   },
   "outputs": [],
   "source": [
    "# ESCREVA AQUI SEU CÓDIGO"
   ]
  }
 ],
 "metadata": {
  "colab": {
   "include_colab_link": true,
   "provenance": []
  },
  "kernelspec": {
   "display_name": "Python 3 (ipykernel)",
   "language": "python",
   "name": "python3"
  },
  "language_info": {
   "codemirror_mode": {
    "name": "ipython",
    "version": 3
   },
   "file_extension": ".py",
   "mimetype": "text/x-python",
   "name": "python",
   "nbconvert_exporter": "python",
   "pygments_lexer": "ipython3",
   "version": "3.11.3"
  }
 },
 "nbformat": 4,
 "nbformat_minor": 1
}
