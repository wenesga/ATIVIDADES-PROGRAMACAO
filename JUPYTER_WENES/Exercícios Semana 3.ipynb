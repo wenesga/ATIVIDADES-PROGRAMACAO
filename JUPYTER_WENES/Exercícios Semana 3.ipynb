{
 "cells": [
  {
   "cell_type": "markdown",
   "id": "0959acf3",
   "metadata": {},
   "source": [
    "1) Desenvolva um algoritmo em Python para veriﬁcar se um aluno foi aprovado \n",
    "em uma disciplina. O algoritmo deve solicitar ao usuário que digite a nota do \n",
    "aluno e veriﬁcar se a nota é maior ou igual a 7. Caso a nota seja maior ou \n",
    "igual a 7, o algoritmo deve exibir a mensagem \"Aluno aprovado\". Caso contrário, \n",
    "o algoritmo deve exibir a mensagem \"Aluno reprovado\"."
   ]
  },
  {
   "cell_type": "code",
   "execution_count": null,
   "id": "71ea9e01",
   "metadata": {},
   "outputs": [],
   "source": [
    "nota = float(input(\"Digite a nota do aluno: \"))\n",
    "\n",
    "if(nota >= 7):\n",
    "    print('Aluno Aprovado')\n",
    "else:\n",
    "    print('Aluno Reprovado')"
   ]
  },
  {
   "cell_type": "code",
   "execution_count": null,
   "id": "31db91f2",
   "metadata": {},
   "outputs": [],
   "source": []
  }
 ],
 "metadata": {
  "kernelspec": {
   "display_name": "Python 3 (ipykernel)",
   "language": "python",
   "name": "python3"
  },
  "language_info": {
   "codemirror_mode": {
    "name": "ipython",
    "version": 3
   },
   "file_extension": ".py",
   "mimetype": "text/x-python",
   "name": "python",
   "nbconvert_exporter": "python",
   "pygments_lexer": "ipython3",
   "version": "3.11.4"
  }
 },
 "nbformat": 4,
 "nbformat_minor": 5
}
