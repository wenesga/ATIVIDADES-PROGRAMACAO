{
 "cells": [
  {
   "cell_type": "markdown",
   "id": "0959acf3",
   "metadata": {},
   "source": [
    "1) Desenvolva um algoritmo em Python para veriﬁcar se um aluno foi aprovado \n",
    "em uma disciplina. O algoritmo deve solicitar ao usuário que digite a nota do \n",
    "aluno e veriﬁcar se a nota é maior ou igual a 7. Caso a nota seja maior ou \n",
    "igual a 7, o algoritmo deve exibir a mensagem \"Aluno aprovado\". Caso contrário, \n",
    "o algoritmo deve exibir a mensagem \"Aluno reprovado\"."
   ]
  },
  {
   "cell_type": "code",
   "execution_count": 1,
   "id": "71ea9e01",
   "metadata": {},
   "outputs": [
    {
     "name": "stdout",
     "output_type": "stream",
     "text": [
      "Digite a nota do aluno: 7\n",
      "Aluno Aprovado\n"
     ]
    }
   ],
   "source": [
    "nota = float(input(\"Digite a nota do aluno: \"))\n",
    "\n",
    "if(nota >= 7):\n",
    "    print('Aluno Aprovado')\n",
    "else:\n",
    "    print('Aluno Reprovado')"
   ]
  },
  {
   "cell_type": "markdown",
   "id": "1c92e3e5",
   "metadata": {},
   "source": [
    "2) Desenvolva um algoritmo em Python para determinar se um ano é bissexto. O algoritmo\n",
    "deve solicitar ao usuário que digite um ano e veriﬁcar se o ano é bissexto. Um ano é\n",
    "bissexto se for divisível por 4, mas não por 100, exceto se for divisível por 400. Caso o\n",
    "ano seja bissexto, o algoritmo deve exibir a mensagem \"Ano bissexto\". Caso contrário, o\n",
    "algoritmo deve exibir a mensagem \"Ano não bissexto\"."
   ]
  },
  {
   "cell_type": "code",
   "execution_count": 6,
   "id": "cde02b20",
   "metadata": {},
   "outputs": [
    {
     "name": "stdout",
     "output_type": "stream",
     "text": [
      "Digite um ano: 1988\n",
      "Ano Bissexto\n"
     ]
    }
   ],
   "source": [
    "ano = int(input(\"Digite um ano: \"))\n",
    "\n",
    "if (ano % 4 == 0 and ano % 100 != 0) or (ano % 400 == 0):\n",
    "    print(\"Ano Bissexto\")\n",
    "else:\n",
    "    print(\"Ano Não Bissexto\")\n"
   ]
  },
  {
   "cell_type": "markdown",
   "id": "b4969020",
   "metadata": {},
   "source": [
    "3) Desenvolva um algoritmo em Python para determinar se uma pessoa tem direito a\n",
    "desconto em um ingresso de cinema. O algoritmo deve solicitar ao usuário que digite a\n",
    "idade da pessoa e veriﬁcar se ela tem menos de 12 anos ou mais de 60 anos. Se a idade\n",
    "estiver dentro dessas faixas, a pessoa terá direito a um desconto de 50% no valor do\n",
    "ingresso. Caso contrário, não haverá desconto. O algoritmo deve exibir o valor a ser pago\n",
    "pelo ingresso, considerando o desconto, se aplicável."
   ]
  },
  {
   "cell_type": "code",
   "execution_count": 20,
   "id": "84c2ca73",
   "metadata": {},
   "outputs": [
    {
     "name": "stdout",
     "output_type": "stream",
     "text": [
      "Digite sua idade: 35\n",
      "Valor a ser pago é: 25\n"
     ]
    }
   ],
   "source": [
    "idade = int(input(\"Digite sua idade: \"))\n",
    "valor_ingresso = 25\n",
    "\n",
    "if idade < 12 or idade > 60:\n",
    "    desconto = valor_ingresso * 0.5\n",
    "else:\n",
    "    desconto = valor_ingresso\n",
    "    \n",
    "print(f\"Valor a ser pago é: {desconto}\")"
   ]
  },
  {
   "cell_type": "markdown",
   "id": "44860b55",
   "metadata": {},
   "source": [
    "4) Desenvolva um algoritmo em Python para calcular o índice de massa corporal (IMC) de\n",
    "uma pessoa. O algoritmo deve solicitar ao usuário que digite o peso e a altura da pessoa\n",
    "e calcular o IMC usando a fórmula: \n",
    "\n",
    "IMC = peso / (altura * altura). Em seguida, o algoritmo\n",
    "deve veriﬁcar em qual faixa o IMC se encontra e exibir uma mensagem correspondente.\n",
    "\n",
    "Por exemplo, se o IMC for menor que 18.5, o algoritmo deve exibir a mensagem \"Abaixo\n",
    "do peso\". Se o IMC estiver entre 18.5 e 24.9, o algoritmo deve exibir a mensagem \"Peso\n",
    "normal\". E assim por diante, de acordo com as faixas de IMC estabelecidas."
   ]
  },
  {
   "cell_type": "code",
   "execution_count": 22,
   "id": "74e335c5",
   "metadata": {},
   "outputs": [
    {
     "name": "stdout",
     "output_type": "stream",
     "text": [
      "Digite seu peso: 5\n",
      "Digite sua altura: 6\n"
     ]
    }
   ],
   "source": [
    "peso = float(input('Digite seu peso: '))\n",
    "altura = float(input('Digite sua altura: ')) #Teste Wenes"
   ]
  }
 ],
 "metadata": {
  "kernelspec": {
   "display_name": "Python 3 (ipykernel)",
   "language": "python",
   "name": "python3"
  },
  "language_info": {
   "codemirror_mode": {
    "name": "ipython",
    "version": 3
   },
   "file_extension": ".py",
   "mimetype": "text/x-python",
   "name": "python",
   "nbconvert_exporter": "python",
   "pygments_lexer": "ipython3",
   "version": "3.11.3"
  }
 },
 "nbformat": 4,
 "nbformat_minor": 5
}
